{
  "nbformat": 4,
  "nbformat_minor": 0,
  "metadata": {
    "colab": {
      "name": "CNN_211220.ipynb",
      "private_outputs": true,
      "provenance": [],
      "collapsed_sections": [],
      "authorship_tag": "ABX9TyM8jE3jSkyF7F1Xl+N0bDRw",
      "include_colab_link": true
    },
    "kernelspec": {
      "name": "python3",
      "display_name": "Python 3"
    },
    "language_info": {
      "name": "python"
    },
    "accelerator": "GPU"
  },
  "cells": [
    {
      "cell_type": "markdown",
      "metadata": {
        "id": "view-in-github",
        "colab_type": "text"
      },
      "source": [
        "<a href=\"https://colab.research.google.com/github/JHyunjun/CNN211220/blob/main/CNN_211220.ipynb\" target=\"_parent\"><img src=\"https://colab.research.google.com/assets/colab-badge.svg\" alt=\"Open In Colab\"/></a>"
      ]
    },
    {
      "cell_type": "code",
      "metadata": {
        "id": "CIppXB2WmITS"
      },
      "source": [
        "import tensorflow as tf\n",
        "from tensorflow.keras import datasets, layers, models\n",
        "import matplotlib.pyplot as plt\n",
        "(train_images, train_labels), (test_images, test_labels) = datasets.mnist.load_data()\n",
        "\n",
        "train_images = train_images.reshape((60000, 28, 28, 1))\n",
        "test_images = test_images.reshape((10000, 28, 28, 1))\n",
        "\n",
        "# Normalization\n",
        "train_images, test_images = train_images / 255.0, test_images / 255.0"
      ],
      "execution_count": null,
      "outputs": []
    },
    {
      "cell_type": "code",
      "metadata": {
        "id": "fVa1I5WIo-xq"
      },
      "source": [
        "model = models.Sequential()\n",
        "model.add(layers.Conv2D(20, (5, 5), activation='relu', input_shape=(28, 28, 1)))\n",
        "model.add(layers.MaxPooling2D(pool_size = (2, 2), strides = (2,2), padding='Valid'))\n",
        "model.add(layers.Conv2D(50, (5, 5), activation='relu'))\n",
        "model.add(layers.MaxPooling2D(pool_size = (2, 2), strides = (2,2), padding='Valid'))\n",
        "\n",
        "\n",
        "model.summary()"
      ],
      "execution_count": null,
      "outputs": []
    },
    {
      "cell_type": "code",
      "metadata": {
        "id": "FdNSMXxCrfOt"
      },
      "source": [
        "learning_rate = 0.001\n",
        "batch_size = 128\n",
        "drop_rate = 0.3\n",
        "\n",
        "model.add(layers.Flatten())\n",
        "model.add(layers.Dense(500, use_bias = True, activation = 'relu'))\n",
        "model.add(layers.Dropout(drop_rate))\n",
        "model.add(layers.Dense(10, activation = 'softmax'))\n",
        "\n",
        "model.summary()"
      ],
      "execution_count": null,
      "outputs": []
    },
    {
      "cell_type": "code",
      "metadata": {
        "id": "5p7En_FXo6yE"
      },
      "source": [
        "model.compile(optimizer=tf.keras.optimizers.Adam(lr=learning_rate), loss='sparse_categorical_crossentropy',metrics=['accuracy'])\n",
        "history = model.fit(train_images, train_labels, batch_size = batch_size, validation_split=0.2, epochs = 30, verbose = 1)\n",
        "# Accuracy Visualization\n",
        "plt.plot(history.history['accuracy'])\n",
        "plt.plot(history.history['val_accuracy'])\n",
        "plt.title('Model accuracy')\n",
        "plt.xlabel('Epoch')\n",
        "plt.ylabel('Accuracy')\n",
        "plt.legend(['Train', 'Test'], loc='upper left')\n",
        "plt.show()\n",
        "\n",
        "# Loss visualization\n",
        "plt.plot(history.history['loss'])\n",
        "plt.plot(history.history['val_loss'])\n",
        "plt.title('Model loss')\n",
        "plt.xlabel('Epoch')\n",
        "plt.ylabel('Loss')\n",
        "plt.legend(['Train', 'Test'], loc='upper left')\n",
        "plt.show()"
      ],
      "execution_count": null,
      "outputs": []
    },
    {
      "cell_type": "code",
      "metadata": {
        "id": "Q6MCfwGz8Ela"
      },
      "source": [
        "test_loss, test_acc = model.evaluate(test_images, test_labels, verbose = 2)\n",
        "train_loss, train_acc = model.evaluate(train_images, train_labels, verbose = 2)\n",
        "print(\"Test Accuracy : \", test_acc)\n",
        "print(\"Train Accuracy : \", train_acc)\n"
      ],
      "execution_count": null,
      "outputs": []
    }
  ]
}